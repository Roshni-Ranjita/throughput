{
 "cells": [
  {
   "cell_type": "code",
   "execution_count": 4,
   "metadata": {},
   "outputs": [],
   "source": [
    "import pandas as pd\n",
    "\n",
    "if __name__ == \"__main__\" :\n",
    "    df = pd.read_csv('data.txt', delimiter=' ', header=None, names=['Country', 'ASN','TS1', 'TS2', 'Metric A', 'Co-Server', 'Bytes', 'Send/Time']) #reading the given data as data frame and assigning names to colums\n",
    "\n",
    "    df['TS1'] = df['TS1'] + df['TS2'] #adding the value of TS1 and TS2 into a single colum TS1\n",
    "    df = df.drop(df.columns[3], axis=1) #dropping or deleting the colum TS2\n",
    "\n",
    "    cs = df.groupby('Co-Server')\n",
    "    asn = df.groupby('ASN')\n",
    "\n",
    "    for name,group in cs:\n",
    "        print(name)\n",
    "        tb = sum(group['Bytes'])\n",
    "        ts = sum(group['Send/Time'])\n",
    "        if ts > 0:\n",
    "            avg = sum(group['Bytes'])/sum(group['Send/Time']) #finding the average if t!=0\n",
    "        else:\n",
    "            avg = 'inf' #it t=0, avg is infinty\n",
    "        print(avg)\n",
    "\n",
    "    for name,group in asn:\n",
    "        print(name)\n",
    "        tb = sum(group['Bytes'])\n",
    "        ts = sum(group['Send/Time'])\n",
    "        if ts > 0:\n",
    "            avg = sum(group['Bytes'])/sum(group['Send/Time']) #finding the average if t!=0\n",
    "        else:\n",
    "            avg = 'inf' #it t=0, avg is infinty\n",
    "        print(avg)\n",
    "        print(\"\\n\")"
   ]
  },
  {
   "cell_type": "code",
   "execution_count": null,
   "metadata": {},
   "outputs": [],
   "source": []
  }
 ],
 "metadata": {
  "kernelspec": {
   "display_name": "Python 3",
   "language": "python",
   "name": "python3"
  },
  "language_info": {
   "codemirror_mode": {
    "name": "ipython",
    "version": 3
   },
   "file_extension": ".py",
   "mimetype": "text/x-python",
   "name": "python",
   "nbconvert_exporter": "python",
   "pygments_lexer": "ipython3",
   "version": "3.7.2"
  }
 },
 "nbformat": 4,
 "nbformat_minor": 2
}
